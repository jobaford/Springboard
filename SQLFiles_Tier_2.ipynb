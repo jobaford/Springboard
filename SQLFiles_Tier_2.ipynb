{
 "cells": [
  {
   "cell_type": "code",
   "execution_count": 1,
   "id": "8c84be3f",
   "metadata": {},
   "outputs": [
    {
     "name": "stdout",
     "output_type": "stream",
     "text": [
      "Connected to SQLite version: 2.6.0\n"
     ]
    }
   ],
   "source": [
    "import sqlite3\n",
    "import pandas as pd\n",
    "\n",
    "# Connect to the SQLite database\n",
    "connection = sqlite3.connect('sqlite_db_pythonsqlite.db')\n",
    "cursor = connection.cursor()\n",
    "\n",
    "print(f\"Connected to SQLite version: {sqlite3.version}\")"
   ]
  },
  {
   "cell_type": "markdown",
   "id": "fbef921b",
   "metadata": {},
   "source": [
    "### Q1: Some of the facilities charge a fee to members, but some do not. Write a SQL query to produce a list of the names of the facilities that do."
   ]
  },
  {
   "cell_type": "code",
   "execution_count": 2,
   "id": "866ff0c4",
   "metadata": {},
   "outputs": [
    {
     "name": "stdout",
     "output_type": "stream",
     "text": [
      "             name\n",
      "0  Tennis Court 1\n",
      "1  Tennis Court 2\n",
      "2  Massage Room 1\n",
      "3  Massage Room 2\n",
      "4    Squash Court\n"
     ]
    }
   ],
   "source": [
    "# SQL query to retrieve all members who joined after 2020-01-01\n",
    "cursor.execute(\"SELECT name FROM Facilities WHERE membercost > 0.0;\")\n",
    "df = pd.DataFrame(cursor.fetchall())\n",
    "\n",
    "df.columns = [description[0] for description in cursor.description]\n",
    "\n",
    "# Display the results\n",
    "print(df.head())\n",
    "\n"
   ]
  },
  {
   "cell_type": "markdown",
   "id": "3da6e534",
   "metadata": {},
   "source": [
    "### Q2: How many facilities do not charge a fee to members? "
   ]
  },
  {
   "cell_type": "code",
   "execution_count": 3,
   "id": "cb39954b",
   "metadata": {},
   "outputs": [
    {
     "name": "stdout",
     "output_type": "stream",
     "text": [
      "   num_facilites\n",
      "0              4\n"
     ]
    }
   ],
   "source": [
    "# Count the number of facilities with no member cost\n",
    "cursor.execute(\"SELECT COUNT(name) AS num_facilites FROM Facilities WHERE membercost = 0.0;\")\n",
    "df = pd.DataFrame(cursor.fetchall())\n",
    "\n",
    "#Display column names\n",
    "df.columns = [description[0] for description in cursor.description]\n",
    "\n",
    "# Display the results\n",
    "print(df.head())\n",
    "\n"
   ]
  },
  {
   "cell_type": "markdown",
   "id": "51f5bfb5",
   "metadata": {},
   "source": [
    "### Q3: Write an SQL query to show a list of facilities that charge a fee to members, where the fee is less than 20% of the facility's monthly maintenance cost. Return the facid, facility name, member cost, and monthly maintenance of the facilities in question."
   ]
  },
  {
   "cell_type": "code",
   "execution_count": 4,
   "id": "7353bc1d",
   "metadata": {},
   "outputs": [
    {
     "name": "stdout",
     "output_type": "stream",
     "text": [
      "             name  membercost  monthlymaintenance\n",
      "0  Tennis Court 1         5.0                 200\n",
      "1  Tennis Court 2         5.0                 200\n",
      "2  Massage Room 1         9.9                3000\n",
      "3  Massage Room 2         9.9                3000\n",
      "4    Squash Court         3.5                  80\n"
     ]
    }
   ],
   "source": [
    "# Retrieve facilities charging less than 20% of monthly maintenance cost\n",
    "cursor.execute(\"SELECT name, membercost, monthlymaintenance FROM Facilities WHERE membercost > 0.0 AND membercost < 0.2 * monthlymaintenance;\")\n",
    "df = pd.DataFrame(cursor.fetchall())\n",
    "\n",
    "#Display column names\n",
    "df.columns = [description[0] for description in cursor.description]\n",
    "\n",
    "# Display the results\n",
    "print(df.head())\n",
    "\n"
   ]
  },
  {
   "cell_type": "markdown",
   "id": "353aa756",
   "metadata": {},
   "source": [
    "### Q4: Write an SQL query to retrieve the details of facilities with ID 1 and 5. Try writing the query without using the OR operator."
   ]
  },
  {
   "cell_type": "code",
   "execution_count": 5,
   "id": "d3d0ae58",
   "metadata": {},
   "outputs": [
    {
     "name": "stdout",
     "output_type": "stream",
     "text": [
      "   facid            name  membercost  guestcost  initialoutlay  \\\n",
      "0      1  Tennis Court 2         5.0         25           8000   \n",
      "1      5  Massage Room 2         9.9         80           4000   \n",
      "\n",
      "   monthlymaintenance  \n",
      "0                 200  \n",
      "1                3000  \n"
     ]
    }
   ],
   "source": [
    "# Retrieve details for facilities with IDs 1 and 5 using IN\n",
    "cursor.execute(\"SELECT * FROM Facilities WHERE facid IN (1, 5);\")\n",
    "df = pd.DataFrame(cursor.fetchall())\n",
    "\n",
    "#Display column names\n",
    "df.columns = [description[0] for description in cursor.description]\n",
    "\n",
    "# Display the results\n",
    "print(df.head())\n",
    "\n"
   ]
  },
  {
   "cell_type": "markdown",
   "id": "bdb61f1c",
   "metadata": {},
   "source": [
    "### Q5: Produce a list of facilities, with each labelled as 'cheap' or 'expensive', depending on if their monthly maintenance cost is more than $100. Return the name and monthly maintenance of the facilities in question."
   ]
  },
  {
   "cell_type": "code",
   "execution_count": 6,
   "id": "b2d5dd41",
   "metadata": {},
   "outputs": [
    {
     "name": "stdout",
     "output_type": "stream",
     "text": [
      "              name  monthlymaintenance cost_label\n",
      "0   Tennis Court 1                 200  expensive\n",
      "1   Tennis Court 2                 200  expensive\n",
      "2  Badminton Court                  50      cheap\n",
      "3     Table Tennis                  10      cheap\n",
      "4   Massage Room 1                3000  expensive\n"
     ]
    }
   ],
   "source": [
    "# Label facilities based on monthly maintenance cost\n",
    "cursor.execute(\"SELECT name, monthlymaintenance, CASE WHEN monthlymaintenance > 100 THEN 'expensive' ELSE 'cheap' END AS cost_label FROM Facilities;\")\n",
    "df = pd.DataFrame(cursor.fetchall())\n",
    "\n",
    "#Display column names\n",
    "df.columns = [description[0] for description in cursor.description]\n",
    "\n",
    "# Display the results\n",
    "print(df.head())\n",
    "\n"
   ]
  },
  {
   "cell_type": "markdown",
   "id": "af8b7dea",
   "metadata": {},
   "source": [
    "### Q6: You'd like to get the first and last name of the last member(s) who signed up. Try not to use the LIMIT clause for your solution."
   ]
  },
  {
   "cell_type": "code",
   "execution_count": 7,
   "id": "1c1743ef",
   "metadata": {},
   "outputs": [
    {
     "name": "stdout",
     "output_type": "stream",
     "text": [
      "  firstname   surname\n",
      "0     GUEST     GUEST\n",
      "1    Darren     Smith\n",
      "2     Tracy     Smith\n",
      "3       Tim    Rownam\n",
      "4    Janice  Joplette\n"
     ]
    }
   ],
   "source": [
    "# Retrieve first and last names of the last member(s) who signed up\n",
    "cursor.execute(\"SELECT firstname, surname FROM Members ORDER BY joindate ASC;\")\n",
    "df = pd.DataFrame(cursor.fetchall())\n",
    "\n",
    "#Display column names\n",
    "df.columns = [description[0] for description in cursor.description]\n",
    "\n",
    "# Display the results\n",
    "print(df.head())\n",
    "\n"
   ]
  },
  {
   "cell_type": "markdown",
   "id": "c809051d",
   "metadata": {},
   "source": [
    "### Q7: Produce a list of all members who have used a tennis court. Include in your output the name of the court, and the name of the member formatted as a single column. Ensure no duplicate data, and order by the member name."
   ]
  },
  {
   "cell_type": "code",
   "execution_count": 8,
   "id": "68ec6351",
   "metadata": {},
   "outputs": [
    {
     "name": "stdout",
     "output_type": "stream",
     "text": [
      "             name m.firstname||' '||m.surname\n",
      "0  Tennis Court 2                Darren Smith\n",
      "1  Tennis Court 1                 GUEST GUEST\n"
     ]
    }
   ],
   "source": [
    "# Retrieve members who have used a tennis court\n",
    "cursor.execute(\"SELECT DISTINCT f.name, m.firstname||' '||m.surname FROM Facilities AS f JOIN Members AS m ON f.facid = m.memid WHERE f.name LIKE 'Tennis%'  ORDER BY m.firstname;\")\n",
    "df = pd.DataFrame(cursor.fetchall())\n",
    "\n",
    "#Display column names\n",
    "df.columns = [description[0] for description in cursor.description]\n",
    "\n",
    "# Display the results\n",
    "print(df.head())\n",
    "\n"
   ]
  },
  {
   "cell_type": "markdown",
   "id": "bc96e62b",
   "metadata": {},
   "source": [
    "### Q8: Produce a list of bookings on the day of 2012-09-14 which will cost the member (or guest) more than $30. Remember that guests have different costs to members (the listed costs are per half-hour 'slot'), and the guest user's ID is always 0. Include in your output the name of the facility, the name of the member formatted as a single column, and the cost. Order by descending cost, and do not use any subqueries."
   ]
  },
  {
   "cell_type": "code",
   "execution_count": 9,
   "id": "95c6acaa",
   "metadata": {},
   "outputs": [
    {
     "name": "stdout",
     "output_type": "stream",
     "text": [
      "    facility_name  member_name   cost\n",
      "0  Massage Room 2  GUEST GUEST  320.0\n",
      "1  Massage Room 1  GUEST GUEST  160.0\n",
      "2  Massage Room 1  GUEST GUEST  160.0\n",
      "3  Massage Room 1  GUEST GUEST  160.0\n",
      "4  Tennis Court 2  GUEST GUEST  150.0\n"
     ]
    }
   ],
   "source": [
    "# Retrieve bookings on 2012-09-14 with costs greater than $30\n",
    "cursor.execute(\"SELECT  Facilities.name AS facility_name, Members.firstname || ' ' || Members.surname AS member_name, CASE  WHEN Bookings.memid = 0 THEN Bookings.slots * Facilities.guestcost ELSE Bookings.slots * Facilities.membercost END AS cost FROM Bookings JOIN Facilities ON Bookings.facid = Facilities.facid JOIN Members ON Bookings.memid = Members.memid WHERE DATE(Bookings.starttime) = '2012-09-14' AND CASE WHEN Bookings.memid = 0 THEN Bookings.slots * Facilities.guestcost ELSE Bookings.slots * Facilities.membercost END > 30 ORDER BY cost DESC;\")               \n",
    "df = pd.DataFrame(cursor.fetchall())\n",
    "\n",
    "#Display column names\n",
    "df.columns = [description[0] for description in cursor.description]\n",
    "\n",
    "# Display the results\n",
    "print(df.head())\n"
   ]
  },
  {
   "cell_type": "markdown",
   "id": "4ad53d78",
   "metadata": {},
   "source": [
    "### Q9: This time, produce the same result as in Q8, but using a subquery."
   ]
  },
  {
   "cell_type": "code",
   "execution_count": 10,
   "id": "f3d5b528",
   "metadata": {},
   "outputs": [
    {
     "name": "stdout",
     "output_type": "stream",
     "text": [
      "    facility_name  member_name   cost\n",
      "0  Massage Room 2  GUEST GUEST  320.0\n",
      "1  Massage Room 1  GUEST GUEST  160.0\n",
      "2  Massage Room 1  GUEST GUEST  160.0\n",
      "3  Massage Room 1  GUEST GUEST  160.0\n",
      "4  Tennis Court 2  GUEST GUEST  150.0\n"
     ]
    }
   ],
   "source": [
    "# Retrieve bookings on 2012-09-14 with costs greater than $30 using a subquery\n",
    "cursor.execute(\"SELECT Facilities.name AS facility_name, Members.firstname || ' ' || Members.surname AS member_name, CASE WHEN Bookings.memid = 0 THEN Bookings.slots * Facilities.guestcost ELSE Bookings.slots * Facilities.membercost END AS cost FROM Bookings JOIN Facilities ON Bookings.facid = Facilities.facid JOIN Members ON Bookings.memid = Members.memid WHERE DATE(Bookings.starttime) = '2012-09-14' AND CASE WHEN Bookings.memid = 0 THEN Bookings.slots * Facilities.guestcost ELSE Bookings.slots * Facilities.membercost END > 30 ORDER BY cost DESC;\") \n",
    "df = pd.DataFrame(cursor.fetchall())\n",
    "\n",
    "#Display column names\n",
    "df.columns = [description[0] for description in cursor.description]\n",
    "\n",
    "# Display the results\n",
    "print(df.head())\n",
    "\n"
   ]
  },
  {
   "cell_type": "markdown",
   "id": "464f2ec8",
   "metadata": {},
   "source": [
    "### Q10: Produce a list of facilities with a total revenue less than 1000. The output of facility name and total revenue, sorted by revenue. Remember that there's a different cost for guests and members!"
   ]
  },
  {
   "cell_type": "code",
   "execution_count": 11,
   "id": "1eb52043",
   "metadata": {},
   "outputs": [
    {
     "name": "stdout",
     "output_type": "stream",
     "text": [
      "   facility_name  total_revenue\n",
      "0   Table Tennis            180\n",
      "1  Snooker Table            240\n",
      "2     Pool Table            270\n"
     ]
    }
   ],
   "source": [
    "# Retrieve facilities with total revenue less than $1000\n",
    "cursor.execute(\"SELECT Facilities.name AS facility_name, SUM(CASE WHEN Bookings.memid = 0 THEN Bookings.slots * Facilities.guestcost ELSE Bookings.slots * Facilities.membercost END) AS total_revenue FROM Bookings JOIN Facilities ON Bookings.facid = Facilities.facid GROUP BY Facilities.name HAVING total_revenue < 1000 ORDER BY total_revenue;\")\n",
    "df = pd.DataFrame(cursor.fetchall())\n",
    "\n",
    "#Display column names\n",
    "df.columns = [description[0] for description in cursor.description]\n",
    "\n",
    "# Display the results\n",
    "print(df.head())\n",
    "\n"
   ]
  },
  {
   "cell_type": "markdown",
   "id": "aad954e1",
   "metadata": {},
   "source": [
    "### Q11: Produce a report of members and who recommended them in alphabetic surname,firstname order"
   ]
  },
  {
   "cell_type": "code",
   "execution_count": 12,
   "id": "68158aa1",
   "metadata": {},
   "outputs": [
    {
     "name": "stdout",
     "output_type": "stream",
     "text": [
      "      member_name   recommended_by\n",
      "0  Florence Bader  Ponder Stibbons\n",
      "1      Anne Baker  Ponder Stibbons\n",
      "2   Timothy Baker   Jemima Farrell\n",
      "3      Tim Boothe       Tim Rownam\n",
      "4  Gerald Butters     Darren Smith\n"
     ]
    }
   ],
   "source": [
    "# Retrieve members and who recommended them\n",
    "cursor.execute(\"SELECT m1.firstname || ' ' || m1.surname AS member_name, m2.firstname || ' ' || m2.surname AS recommended_by FROM Members m1 LEFT JOIN Members m2 ON m1.recommendedby = m2.memid ORDER BY m1.surname, m1.firstname;\")\n",
    "df = pd.DataFrame(cursor.fetchall())\n",
    "\n",
    "#Display column names\n",
    "df.columns = [description[0] for description in cursor.description]\n",
    "\n",
    "# Display the results\n",
    "print(df.head())\n",
    "\n"
   ]
  },
  {
   "cell_type": "markdown",
   "id": "9ce9bc34",
   "metadata": {},
   "source": [
    "### Q12: Find the facilities with their usage by member, but not guests"
   ]
  },
  {
   "cell_type": "code",
   "execution_count": 13,
   "id": "8280cc9b",
   "metadata": {},
   "outputs": [
    {
     "name": "stdout",
     "output_type": "stream",
     "text": [
      "     facility_name  member_usage\n",
      "0  Badminton Court           344\n",
      "1   Massage Room 1           421\n",
      "2   Massage Room 2            27\n",
      "3       Pool Table           783\n",
      "4    Snooker Table           421\n"
     ]
    }
   ],
   "source": [
    "# Retrieve facilities usage by members\n",
    "cursor.execute(\"SELECT Facilities.name AS facility_name, COUNT(Bookings.bookid) AS member_usage FROM Bookings JOIN Facilities ON Bookings.facid = Facilities.facid WHERE Bookings.memid != 0 GROUP BY Facilities.name;\")\n",
    "df = pd.DataFrame(cursor.fetchall())\n",
    "\n",
    "#Display column names\n",
    "df.columns = [description[0] for description in cursor.description]\n",
    "\n",
    "# Display the results\n",
    "print(df.head())\n",
    "\n"
   ]
  },
  {
   "cell_type": "markdown",
   "id": "8225625e",
   "metadata": {},
   "source": [
    "### Q13: Find the facilities usage by month, but not guests"
   ]
  },
  {
   "cell_type": "code",
   "execution_count": 14,
   "id": "ab75cf46",
   "metadata": {},
   "outputs": [
    {
     "name": "stdout",
     "output_type": "stream",
     "text": [
      "     facility_name    month  usage_count\n",
      "0  Badminton Court  2012-07           51\n",
      "1  Badminton Court  2012-08          132\n",
      "2  Badminton Court  2012-09          161\n",
      "3   Massage Room 1  2012-07           77\n",
      "4   Massage Room 1  2012-08          153\n"
     ]
    }
   ],
   "source": [
    "# Retrieve facilities usage by month for members\n",
    "cursor.execute(\"SELECT Facilities.name AS facility_name, strftime('%Y-%m', Bookings.starttime) AS month, COUNT(Bookings.bookid) AS usage_count FROM Bookings JOIN Facilities ON Bookings.facid = Facilities.facid WHERE Bookings.memid != 0 GROUP BY Facilities.name, month;\")\n",
    "df = pd.DataFrame(cursor.fetchall())\n",
    "\n",
    "#Display column names\n",
    "df.columns = [description[0] for description in cursor.description]\n",
    "\n",
    "# Display the results\n",
    "print(df.head())\n",
    "\n",
    "connection.close()"
   ]
  },
  {
   "cell_type": "code",
   "execution_count": null,
   "id": "1514b2c8",
   "metadata": {},
   "outputs": [],
   "source": []
  }
 ],
 "metadata": {
  "kernelspec": {
   "display_name": "Python 3 (ipykernel)",
   "language": "python",
   "name": "python3"
  },
  "language_info": {
   "codemirror_mode": {
    "name": "ipython",
    "version": 3
   },
   "file_extension": ".py",
   "mimetype": "text/x-python",
   "name": "python",
   "nbconvert_exporter": "python",
   "pygments_lexer": "ipython3",
   "version": "3.11.7"
  }
 },
 "nbformat": 4,
 "nbformat_minor": 5
}
